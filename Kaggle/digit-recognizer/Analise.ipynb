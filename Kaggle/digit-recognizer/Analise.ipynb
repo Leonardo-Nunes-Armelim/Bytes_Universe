{
 "cells": [
  {
   "cell_type": "code",
   "execution_count": 3,
   "id": "5a1d5e6b-f068-49b7-9f83-a2dc4a575038",
   "metadata": {},
   "outputs": [
    {
     "name": "stdout",
     "output_type": "stream",
     "text": [
      "Collecting matplotlib\n",
      "  Downloading matplotlib-3.10.6-cp310-cp310-win_amd64.whl.metadata (11 kB)\n",
      "Collecting contourpy>=1.0.1 (from matplotlib)\n",
      "  Using cached contourpy-1.3.2-cp310-cp310-win_amd64.whl.metadata (5.5 kB)\n",
      "Collecting cycler>=0.10 (from matplotlib)\n",
      "  Using cached cycler-0.12.1-py3-none-any.whl.metadata (3.8 kB)\n",
      "Collecting fonttools>=4.22.0 (from matplotlib)\n",
      "  Downloading fonttools-4.60.1-cp310-cp310-win_amd64.whl.metadata (114 kB)\n",
      "     ---------------------------------------- 0.0/114.6 kB ? eta -:--:--\n",
      "     ------------- ----------------------- 41.0/114.6 kB 991.0 kB/s eta 0:00:01\n",
      "     -------------------------------------- 114.6/114.6 kB 1.7 MB/s eta 0:00:00\n",
      "Collecting kiwisolver>=1.3.1 (from matplotlib)\n",
      "  Using cached kiwisolver-1.4.9-cp310-cp310-win_amd64.whl.metadata (6.4 kB)\n",
      "Requirement already satisfied: numpy>=1.23 in c:\\users\\leonardo\\anaconda3\\envs\\python_10\\lib\\site-packages (from matplotlib) (1.26.4)\n",
      "Requirement already satisfied: packaging>=20.0 in c:\\users\\leonardo\\anaconda3\\envs\\python_10\\lib\\site-packages (from matplotlib) (24.0)\n",
      "Collecting pillow>=8 (from matplotlib)\n",
      "  Using cached pillow-11.3.0-cp310-cp310-win_amd64.whl.metadata (9.2 kB)\n",
      "Collecting pyparsing>=2.3.1 (from matplotlib)\n",
      "  Downloading pyparsing-3.2.5-py3-none-any.whl.metadata (5.0 kB)\n",
      "Requirement already satisfied: python-dateutil>=2.7 in c:\\users\\leonardo\\anaconda3\\envs\\python_10\\lib\\site-packages (from matplotlib) (2.9.0.post0)\n",
      "Requirement already satisfied: six>=1.5 in c:\\users\\leonardo\\anaconda3\\envs\\python_10\\lib\\site-packages (from python-dateutil>=2.7->matplotlib) (1.16.0)\n",
      "Downloading matplotlib-3.10.6-cp310-cp310-win_amd64.whl (8.1 MB)\n",
      "   ---------------------------------------- 0.0/8.1 MB ? eta -:--:--\n",
      "   ----- ---------------------------------- 1.1/8.1 MB 24.3 MB/s eta 0:00:01\n",
      "   ------------------ --------------------- 3.7/8.1 MB 39.3 MB/s eta 0:00:01\n",
      "   ------------------------------ --------- 6.3/8.1 MB 50.1 MB/s eta 0:00:01\n",
      "   ---------------------------------------  8.1/8.1 MB 43.3 MB/s eta 0:00:01\n",
      "   ---------------------------------------- 8.1/8.1 MB 39.9 MB/s eta 0:00:00\n",
      "Using cached contourpy-1.3.2-cp310-cp310-win_amd64.whl (221 kB)\n",
      "Using cached cycler-0.12.1-py3-none-any.whl (8.3 kB)\n",
      "Downloading fonttools-4.60.1-cp310-cp310-win_amd64.whl (2.3 MB)\n",
      "   ---------------------------------------- 0.0/2.3 MB ? eta -:--:--\n",
      "   ---------------------------------------  2.3/2.3 MB 73.0 MB/s eta 0:00:01\n",
      "   ---------------------------------------- 2.3/2.3 MB 48.2 MB/s eta 0:00:00\n",
      "Using cached kiwisolver-1.4.9-cp310-cp310-win_amd64.whl (73 kB)\n",
      "Using cached pillow-11.3.0-cp310-cp310-win_amd64.whl (7.0 MB)\n",
      "Downloading pyparsing-3.2.5-py3-none-any.whl (113 kB)\n",
      "   ---------------------------------------- 0.0/113.9 kB ? eta -:--:--\n",
      "   ---------------------------------------- 113.9/113.9 kB 6.9 MB/s eta 0:00:00\n",
      "Installing collected packages: pyparsing, pillow, kiwisolver, fonttools, cycler, contourpy, matplotlib\n",
      "Successfully installed contourpy-1.3.2 cycler-0.12.1 fonttools-4.60.1 kiwisolver-1.4.9 matplotlib-3.10.6 pillow-11.3.0 pyparsing-3.2.5\n"
     ]
    }
   ],
   "source": [
    "#!pip install tensorflow\n",
    "#!pip install matplotlib"
   ]
  },
  {
   "cell_type": "code",
   "execution_count": 2,
   "id": "9a97d8ca-08c0-4295-a09a-50dfad6694e6",
   "metadata": {},
   "outputs": [
    {
     "ename": "ModuleNotFoundError",
     "evalue": "No module named 'matplotlib'",
     "output_type": "error",
     "traceback": [
      "\u001b[1;31m---------------------------------------------------------------------------\u001b[0m",
      "\u001b[1;31mModuleNotFoundError\u001b[0m                       Traceback (most recent call last)",
      "Cell \u001b[1;32mIn[2], line 4\u001b[0m\n\u001b[0;32m      2\u001b[0m \u001b[38;5;28;01mimport\u001b[39;00m\u001b[38;5;250m \u001b[39m\u001b[38;5;21;01mnumpy\u001b[39;00m\u001b[38;5;250m \u001b[39m\u001b[38;5;28;01mas\u001b[39;00m\u001b[38;5;250m \u001b[39m\u001b[38;5;21;01mnp\u001b[39;00m\n\u001b[0;32m      3\u001b[0m \u001b[38;5;28;01mimport\u001b[39;00m\u001b[38;5;250m \u001b[39m\u001b[38;5;21;01mpandas\u001b[39;00m\u001b[38;5;250m \u001b[39m\u001b[38;5;28;01mas\u001b[39;00m\u001b[38;5;250m \u001b[39m\u001b[38;5;21;01mpd\u001b[39;00m\n\u001b[1;32m----> 4\u001b[0m \u001b[38;5;28;01mimport\u001b[39;00m\u001b[38;5;250m \u001b[39m\u001b[38;5;21;01mmatplotlib\u001b[39;00m\u001b[38;5;21;01m.\u001b[39;00m\u001b[38;5;21;01mpyplot\u001b[39;00m\u001b[38;5;250m \u001b[39m\u001b[38;5;28;01mas\u001b[39;00m\u001b[38;5;250m \u001b[39m\u001b[38;5;21;01mplt\u001b[39;00m\n",
      "\u001b[1;31mModuleNotFoundError\u001b[0m: No module named 'matplotlib'"
     ]
    }
   ],
   "source": [
    "from tensorflow.keras import layers, models\n",
    "import numpy as np\n",
    "import pandas as pd\n",
    "import matplotlib.pyplot as plt"
   ]
  },
  {
   "cell_type": "code",
   "execution_count": null,
   "id": "fe8e76b0-c089-48a0-abd0-8b06becde09b",
   "metadata": {},
   "outputs": [],
   "source": [
    "# Carrega dados do CSV \"train.csv\"\n",
    "train_data = np.loadtxt(\"./train.csv\", delimiter=\",\", skiprows=1)"
   ]
  },
  {
   "cell_type": "code",
   "execution_count": null,
   "id": "38fea6da-bd99-4367-8fe1-484eeeef3ca6",
   "metadata": {},
   "outputs": [],
   "source": [
    "# Quantidade de dados de treino\n",
    "print('images:', len(train_data))"
   ]
  },
  {
   "cell_type": "code",
   "execution_count": null,
   "id": "44f35d8a-7b73-4d7e-b78a-821cf5bda753",
   "metadata": {},
   "outputs": [],
   "source": [
    "# Separa labels das informações da imagem\n",
    "Y_train = train_data[:, 0].astype(int)   # labels (dígitos 0–9)\n",
    "X_train = train_data[:, 1:]              # pixels (features)"
   ]
  },
  {
   "cell_type": "code",
   "execution_count": null,
   "id": "73880133-c605-40c7-8741-431a5d5c2a18",
   "metadata": {},
   "outputs": [],
   "source": [
    "# Altera valores da image de (0 à 155) para (0.0 à 1.0)\n",
    "X_train = X_train / 255.0"
   ]
  },
  {
   "cell_type": "code",
   "execution_count": null,
   "id": "c3470698-78e8-4dad-a821-ebf870a4079e",
   "metadata": {},
   "outputs": [],
   "source": [
    "# Modelo de rede neural\n",
    "model = models.Sequential([\n",
    "    layers.Flatten(input_shape=(28, 28)),\n",
    "    layers.Dense(128, activation='relu'),\n",
    "    layers.Dense(64, activation='relu'),\n",
    "    layers.Dense(10, activation='softmax')\n",
    "])"
   ]
  },
  {
   "cell_type": "code",
   "execution_count": null,
   "id": "88015003-9590-43d0-866f-30dba1338ca5",
   "metadata": {},
   "outputs": [],
   "source": [
    "# Compila o modelo\n",
    "model.compile(optimizer='adam',\n",
    "              loss='sparse_categorical_crossentropy',\n",
    "              metrics=['accuracy'])"
   ]
  },
  {
   "cell_type": "code",
   "execution_count": null,
   "id": "06d0e559-e267-4b66-ab9c-67ce8f6b5d28",
   "metadata": {},
   "outputs": [],
   "source": [
    "# Aruma formato dos dados das imagens para ser consumido pelo TensorFlow\n",
    "X_train = X_train.reshape(-1, 28, 28)"
   ]
  },
  {
   "cell_type": "code",
   "execution_count": null,
   "id": "aae8f0cf-a437-4db0-9a61-12c145342c8b",
   "metadata": {},
   "outputs": [],
   "source": [
    "# Treina o modelo\n",
    "model.fit(X_train, Y_train, epochs=5, validation_split=0.2)\n",
    "#train_data = np.loadtxt(\"./train.csv\", delimiter=\",\", skiprows=1)"
   ]
  },
  {
   "cell_type": "code",
   "execution_count": null,
   "id": "d99e071e-632e-4c3d-bb10-d853ae14d69e",
   "metadata": {},
   "outputs": [],
   "source": [
    "# Faz as previsões do \"x_text\"\n",
    "predictions = model.predict(X_train)\n",
    "predicted_classes = np.argmax(predictions, axis=1)\n",
    "\n",
    "# Comparar predições com os valores reais\n",
    "accuracy = np.mean(predicted_classes == Y_train)\n",
    "\n",
    "print(\"Acurácia:\", accuracy * 100, \"%\")"
   ]
  },
  {
   "cell_type": "code",
   "execution_count": null,
   "id": "7dc3167d-f79f-479e-8dcd-743703c8b30e",
   "metadata": {},
   "outputs": [],
   "source": [
    "# Carrega dados para teste\n",
    "test_data = np.loadtxt(\"./test.csv\", delimiter=\",\", skiprows=1)"
   ]
  },
  {
   "cell_type": "code",
   "execution_count": null,
   "id": "aae0ec08-6ede-4c75-9110-01c08ddd9a89",
   "metadata": {},
   "outputs": [],
   "source": [
    "# Quantidade de dados de teste\n",
    "print('images:', len(test_data))"
   ]
  },
  {
   "cell_type": "code",
   "execution_count": null,
   "id": "a927d1d8-1053-4e84-8c85-615c3f5a8961",
   "metadata": {},
   "outputs": [],
   "source": [
    "# Altera valores da image de (0 à 155) para (0.0 à 1.0)\n",
    "X_test = test_data / 255.0\n",
    "\n",
    "# Aruma formato dos dados das imagens para ser consumido pelo TensorFlow\n",
    "X_test = X_test.reshape(-1, 28, 28)"
   ]
  },
  {
   "cell_type": "code",
   "execution_count": null,
   "id": "c4a24224-2583-4fb9-8326-2171a4ba6577",
   "metadata": {},
   "outputs": [],
   "source": [
    "# Faz as previsões do \"x_text\"\n",
    "predictions_test = model.predict(X_test)\n",
    "predicted_classes_test = np.argmax(predictions_test, axis=1)"
   ]
  },
  {
   "cell_type": "code",
   "execution_count": null,
   "id": "ab4f167b-6d38-4c2f-b867-31720e9749ec",
   "metadata": {},
   "outputs": [],
   "source": [
    "print(\"Primeiras 10 previsões:\")\n",
    "for i in range(10):\n",
    "    print(f\"Imagem {i}: Previsto = {predicted_classes_test[i]}\")"
   ]
  },
  {
   "cell_type": "code",
   "execution_count": null,
   "id": "29eab971-8c27-4bbc-9d8c-742f8139ad01",
   "metadata": {},
   "outputs": [],
   "source": [
    "# Pega a primeira imagem\n",
    "first_image = test_data[0].reshape(28, 28)\n",
    "\n",
    "# Mostra a imagem com número preto e fundo branco\n",
    "plt.imshow(first_image, cmap=\"gray_r\")\n",
    "plt.axis(\"off\")  # remove os eixos\n",
    "plt.show()"
   ]
  },
  {
   "cell_type": "code",
   "execution_count": null,
   "id": "6d983451-5e35-459b-a862-c3dce9b9d417",
   "metadata": {},
   "outputs": [],
   "source": [
    "# Cria coluna ImageId (começa em 1 até N)\n",
    "image_ids = np.arange(1, len(predicted_classes_test) + 1)\n",
    "\n",
    "# Junta em um DataFrame\n",
    "output = pd.DataFrame({\n",
    "    \"ImageId\": image_ids,\n",
    "    \"Label\": predicted_classes_test\n",
    "})"
   ]
  },
  {
   "cell_type": "code",
   "execution_count": null,
   "id": "ce8eb367-c0ad-4d20-9c92-96a0c14bc8b6",
   "metadata": {},
   "outputs": [],
   "source": [
    "# Salva no CSV (sem índice extra)\n",
    "output.to_csv(\"output.csv\", index=False)"
   ]
  }
 ],
 "metadata": {
  "kernelspec": {
   "display_name": "Python 3 (ipykernel)",
   "language": "python",
   "name": "python3"
  },
  "language_info": {
   "codemirror_mode": {
    "name": "ipython",
    "version": 3
   },
   "file_extension": ".py",
   "mimetype": "text/x-python",
   "name": "python",
   "nbconvert_exporter": "python",
   "pygments_lexer": "ipython3",
   "version": "3.10.14"
  }
 },
 "nbformat": 4,
 "nbformat_minor": 5
}
